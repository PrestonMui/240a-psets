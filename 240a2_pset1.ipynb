{
 "cells": [
  {
   "cell_type": "markdown",
   "metadata": {},
   "source": [
    "# ECON-240A, Problem Set 1\n",
    "## Preston Mui"
   ]
  },
  {
   "cell_type": "markdown",
   "metadata": {},
   "source": [
    "### Section 1: The Binomial Distribution"
   ]
  },
  {
   "cell_type": "markdown",
   "metadata": {
    "collapsed": true
   },
   "source": [
    "#### 1 Derive a formula that can be used to calculate the ex ante probability of $Z_N < z$ for any $z \\in \\{1, 2, \\cdots, N\\}$:\n",
    "\n",
    "\\begin{align}\n",
    "    P(Z_N < z) &= \\sum_{k=0}^{z-1} Binomial(n,k) \\theta^k (1-\\theta)^{N - k}\n",
    "\\end{align}\n",
    "\n",
    "Where $Binomial$ refers to $N$ choose $k$, because LaTex's binomial is not rendering in this version of Jupyter. For any given $k \\in 0, 1, \\cdots, N$, $P(Z_N = k) = Binomial(n,k) \\theta^k (1-\\theta)^{N - k}$. Since the support of the binomial distribution is the positive integers from 0 to $N$, the cumulative distribution function of $Z_N$ is the sum of $Binomial(n,k) \\theta^k (1-\\theta)^{N - k}$ for $k = 0$ through $k = z$."
   ]
  },
  {
   "cell_type": "markdown",
   "metadata": {},
   "source": [
    "#### 2. Provide an expression that can be used to calculate the ex ante probability of the event $\\frac{\\sqrt{N}(\\bar{Y}_N - \\theta)}{\\sqrt{\\theta (1-\\theta)}} < c$:\n",
    "\n",
    "\\begin{align}\n",
    "    P \\bigg( \\frac{\\sqrt{N}(\\bar{Y}_N - \\theta)}{\\sqrt{\\theta (1-\\theta)}} < c \\bigg) &= P \\bigg( \\bar{Y}_N < \\theta + \\frac{\\sqrt{\\theta (1-\\theta)} c}{\\sqrt{N}} \\bigg) \\\\\n",
    "    &= P \\bigg( Z_N < N \\theta + \\sqrt{N\\theta (1-\\theta)} c \\bigg) \\\\ \n",
    "    &= \\sum_{k=0}^{N \\theta + \\sqrt{N\\theta (1-\\theta)} c} Binomial(n,k) \\theta^k (1-\\theta)^{N - k}\n",
    "\\end{align}"
   ]
  },
  {
   "cell_type": "markdown",
   "metadata": {
    "collapsed": false
   },
   "source": [
    "#### 3. Plot $P \\bigg( \\frac{\\sqrt{N}(\\bar{Y}_N - \\theta)}{\\sqrt{\\theta (1-\\theta)}} < c \\bigg)$ as a function of $c$ for $N = 5, 10, 100, 1000$ and $\\theta = 1/2$., and 4. Plot the normal cdf on top:"
   ]
  },
  {
   "cell_type": "code",
   "execution_count": 9,
   "metadata": {
    "collapsed": false
   },
   "outputs": [],
   "source": [
    "import numpy as np\n",
    "import math\n",
    "from scipy.special import comb\n",
    "\n",
    "c = np.linspace(-3,3,1000)\n",
    "Nvalues = [5,10,100,1000]\n",
    "\n",
    "def binomialMeanCdf(N,theta,c):\n",
    "    cdf = 0\n",
    "    upperLimit = int(math.ceil(N * theta + np.sqrt(N * theta * (1-theta)) * c))\n",
    "    for k in range(upperLimit):\n",
    "        cdf = cdf + comb(N,k) * theta**k * (1-theta)**(N-k)\n",
    "    return cdf\n",
    "\n",
    "CDFvalues50 = np.zeros((len(Nvalues),len(c)))\n",
    "for i in range(len(Nvalues)):\n",
    "    for j in range(len(c)):\n",
    "        CDFvalues50[i,j] = binomialMeanCdf(Nvalues[i],0.5,c[j])\n"
   ]
  },
  {
   "cell_type": "code",
   "execution_count": 19,
   "metadata": {
    "collapsed": false
   },
   "outputs": [
    {
     "data": {
      "image/png": "[encoded data removed]",
      "text/plain": [
       "<matplotlib.figure.Figure at 0x7fe12e006cd0>"
      ]
     },
     "metadata": {},
     "output_type": "display_data"
    }
   ],
   "source": [
    "%matplotlib inline\n",
    "import matplotlib.pyplot as plt\n",
    "from scipy.stats import norm\n",
    "normCdf = norm.cdf(c)\n",
    "\n",
    "plt.close('all')\n",
    "f, ((ax1, ax2), (ax3, ax4)) = plt.subplots(2, 2, sharex='col', sharey='row')\n",
    "ax1.set_ylabel('Probability from Q2')\n",
    "ax1.plot(c,CDFvalues50[0,:])\n",
    "ax1.plot(c,normCdf)\n",
    "ax1.set_title('N = 5')\n",
    "\n",
    "ax2.plot(c,CDFvalues50[1,:])\n",
    "ax2.plot(c,normCdf)\n",
    "ax2.set_title('N = 10')\n",
    "\n",
    "ax3.set_xlabel('c')\n",
    "ax3.set_ylabel('Probability from Q2')\n",
    "ax3.plot(c,CDFvalues50[2,:])\n",
    "ax3.plot(c,normCdf)\n",
    "ax3.set_title('N = 100')\n",
    "\n",
    "ax4.set_xlabel('c')\n",
    "ax4.plot(c,CDFvalues50[3,:])\n",
    "ax4.plot(c,normCdf)\n",
    "ax4.set_title('N = 1000')\n",
    "\n",
    "plt.suptitle(r'$\\theta = 0.5$', size = 16)\n",
    "plt.show()"
   ]
  },
  {
   "cell_type": "markdown",
   "metadata": {},
   "source": [
    "#### 5. Repeat the above with $\\theta = 1/20$:"
   ]
  },
  {
   "cell_type": "code",
   "execution_count": 17,
   "metadata": {
    "collapsed": false
   },
   "outputs": [
    {
     "ename": "NameError",
     "evalue": "name 'plt' is not defined",
     "output_type": "error",
     "traceback": [
      "\u001b[1;31m---------------------------------------------------------------------------\u001b[0m",
      "\u001b[1;31mNameError\u001b[0m                                 Traceback (most recent call last)",
      "\u001b[1;32m<ipython-input-17-0843b12e019c>\u001b[0m in \u001b[0;36m<module>\u001b[1;34m()\u001b[0m\n\u001b[0;32m      4\u001b[0m         \u001b[0mCDFvalues05\u001b[0m\u001b[1;33m[\u001b[0m\u001b[0mi\u001b[0m\u001b[1;33m,\u001b[0m\u001b[0mj\u001b[0m\u001b[1;33m]\u001b[0m \u001b[1;33m=\u001b[0m \u001b[0mbinomialMeanCdf\u001b[0m\u001b[1;33m(\u001b[0m\u001b[0mNvalues\u001b[0m\u001b[1;33m[\u001b[0m\u001b[0mi\u001b[0m\u001b[1;33m]\u001b[0m\u001b[1;33m,\u001b[0m\u001b[1;36m0.05\u001b[0m\u001b[1;33m,\u001b[0m\u001b[0mc\u001b[0m\u001b[1;33m[\u001b[0m\u001b[0mj\u001b[0m\u001b[1;33m]\u001b[0m\u001b[1;33m)\u001b[0m\u001b[1;33m\u001b[0m\u001b[0m\n\u001b[0;32m      5\u001b[0m \u001b[1;33m\u001b[0m\u001b[0m\n\u001b[1;32m----> 6\u001b[1;33m \u001b[0mplt\u001b[0m\u001b[1;33m.\u001b[0m\u001b[0mclose\u001b[0m\u001b[1;33m(\u001b[0m\u001b[1;34m'all'\u001b[0m\u001b[1;33m)\u001b[0m\u001b[1;33m\u001b[0m\u001b[0m\n\u001b[0m\u001b[0;32m      7\u001b[0m \u001b[0mf\u001b[0m\u001b[1;33m,\u001b[0m \u001b[1;33m(\u001b[0m\u001b[1;33m(\u001b[0m\u001b[0max1\u001b[0m\u001b[1;33m,\u001b[0m \u001b[0max2\u001b[0m\u001b[1;33m)\u001b[0m\u001b[1;33m,\u001b[0m \u001b[1;33m(\u001b[0m\u001b[0max3\u001b[0m\u001b[1;33m,\u001b[0m \u001b[0max4\u001b[0m\u001b[1;33m)\u001b[0m\u001b[1;33m)\u001b[0m \u001b[1;33m=\u001b[0m \u001b[0mplt\u001b[0m\u001b[1;33m.\u001b[0m\u001b[0msubplots\u001b[0m\u001b[1;33m(\u001b[0m\u001b[1;36m2\u001b[0m\u001b[1;33m,\u001b[0m \u001b[1;36m2\u001b[0m\u001b[1;33m,\u001b[0m \u001b[0msharex\u001b[0m\u001b[1;33m=\u001b[0m\u001b[1;34m'col'\u001b[0m\u001b[1;33m,\u001b[0m \u001b[0msharey\u001b[0m\u001b[1;33m=\u001b[0m\u001b[1;34m'row'\u001b[0m\u001b[1;33m)\u001b[0m\u001b[1;33m\u001b[0m\u001b[0m\n\u001b[0;32m      8\u001b[0m \u001b[1;33m\u001b[0m\u001b[0m\n",
      "\u001b[1;31mNameError\u001b[0m: name 'plt' is not defined"
     ]
    }
   ],
   "source": [
    "CDFvalues05 = np.zeros((len(Nvalues),len(c)))\n",
    "for i in range(len(Nvalues)):\n",
    "    for j in range(len(c)):\n",
    "        CDFvalues05[i,j] = binomialMeanCdf(Nvalues[i],0.05,c[j])\n",
    "        \n",
    "plt.close('all')\n",
    "f, ((ax1, ax2), (ax3, ax4)) = plt.subplots(2, 2, sharex='col', sharey='row')\n",
    "\n",
    "ax1.set_ylabel('Probability from Q2')\n",
    "ax1.plot(c,CDFvalues05[0,:])\n",
    "ax1.plot(c,normCdf)\n",
    "ax1.set_title('N = 5')\n",
    "\n",
    "ax2.plot(c,CDFvalues05[1,:])\n",
    "ax2.plot(c,normCdf)\n",
    "ax2.set_title('N = 10')\n",
    "\n",
    "ax3.set_xlabel('c')\n",
    "ax3.set_ylabel('Probability from Q2')\n",
    "ax3.plot(c,CDFvalues05[2,:])\n",
    "ax3.plot(c,normCdf)\n",
    "ax3.set_title('N = 100')\n",
    "\n",
    "ax4.set_xlabel('c')\n",
    "ax4.plot(c,CDFvalues05[3,:])\n",
    "ax4.plot(c,normCdf)\n",
    "ax4.set_title('N = 1000')\n",
    "\n",
    "plt.suptitle(r'$\\theta = 0.05$', size = 16)\n",
    "plt.show()"
   ]
  },
  {
   "cell_type": "markdown",
   "metadata": {},
   "source": [
    "Comments: With both $\\theta = 0.5$ and $\\theta = 0.05$, the normal c.d.f is a good approximation to the binomial distribution the larger $N$ is. In particular, it seems to start being a good approximation at $N = 100$. However, for any given $N$, the normal distribution is a better approximation when $\\theta = 0.5$ rather than $\\theta = 0.05$."
   ]
  },
  {
   "cell_type": "markdown",
   "metadata": {
    "collapsed": true
   },
   "source": [
    "#### 6. What is the approximate ex ante probability that the interval $\\bar{Y}_N \\pm \\frac{\\bar{Y}_N (1 - \\bar{Y}_N)}{\\sqrt{N}} z^{1 - \\alpha / 2}$ contains the $\\theta$?\n",
    "\n",
    "The probability that the interval will contain $\\theta$ is approximately $\\alpha$. In the questions above I found that the distribution of $\\frac{\\sqrt{N}(\\bar{Y}_N - \\theta)}{\\theta(1-\\theta)}$ is approximated by the standard normal distribution; that is,\n",
    "\\begin{align}\n",
    "    Pr\\bigg(\\bar{Y}_N - \\theta < \\sqrt{\\frac{\\theta (1-\\theta)}{N}} z^{1-\\alpha/2} \\bigg) &\\approx \\Phi(z^{1-\\alpha/2}) \\\\\n",
    "    \\implies Pr\\bigg(\\theta \\in \\bar{Y}_N \\pm \\sqrt{\\frac{\\theta (1-\\theta)}{N}} z^{1-\\alpha/2} \\bigg) &\\approx \\Phi(z^{1-\\alpha/2}) - \\Phi(-z^{1-\\alpha/2}) = \\alpha\n",
    "\\end{align}\n",
    "Since $\\bar{Y}_N$ tends towards $\\theta$ when $N$ is reasonable large, substituting $\\bar{Y}_N$ for $\\theta$ in the last expression yields $Pr\\bigg(\\theta \\in \\bar{Y}_N \\pm \\sqrt{\\frac{\\bar{Y}_N (1-\\bar{Y}_N)}{N}} z^{1-\\alpha/2} \\bigg) \\approx \\alpha$."
   ]
  },
  {
   "cell_type": "markdown",
   "metadata": {},
   "source": [
    "#### 8: The Clopper Pearson proposal\n",
    "The proposal will set a lower bound on the probability that the observed sample mean differs from the theoretical mean of any $\\theta \\in [\\underline{\\theta}, \\bar{\\theta}]$ at $1 - \\alpha$. The probability that the observed mean is below the expected mean for any $\\theta$ in the confidence interval is bounded by $\\frac{\\alpha}{2}$ because of the construction of $\\bar{\\theta}$. Likewise, the probability that the observed mean is above the expected mean for any $\\theta$ in the confidence interval is bounded by $\\frac{\\alpha}{2}$ by the construction of $\\underline{\\theta}$."
   ]
  },
  {
   "cell_type": "markdown",
   "metadata": {
    "collapsed": true
   },
   "source": [
    "#### 9. Argue that $F_{B}^{-1} ( \\frac{\\alpha}{2}; Z_N, N - Z_N + 1) < \\theta < F_{B}^{-1} ( \\frac{1 - \\alpha}{2} ; Z_N + 1, N - Z_N)$"
   ]
  },
  {
   "cell_type": "markdown",
   "metadata": {},
   "source": [
    "#### 10."
   ]
  },
  {
   "cell_type": "markdown",
   "metadata": {},
   "source": [
    "#### 11. Generate 1,000 samples of Bernoulli random variables."
   ]
  },
  {
   "cell_type": "code",
   "execution_count": 64,
   "metadata": {
    "collapsed": false
   },
   "outputs": [
    {
     "name": "stdout",
     "output_type": "stream",
     "text": [
      "Fraction of samples where theta lies outside the confidence interval\n",
      "       N  theta  alpha  Normal Approx.  CP  Hoeffding\n",
      "0      5   0.05   0.05           0.762   0          0\n",
      "1      5   0.05   0.10           0.762   0          0\n",
      "2      5   0.50   0.05           0.077   0          0\n",
      "3      5   0.50   0.10           0.397   0          0\n",
      "4     10   0.05   0.05           0.570   0          0\n",
      "5     10   0.05   0.10           0.587   0          0\n",
      "6     10   0.50   0.05           0.105   0          0\n",
      "7     10   0.50   0.10           0.105   0          0\n",
      "8    100   0.05   0.05           0.122   0          0\n",
      "9    100   0.05   0.10           0.152   0          0\n",
      "10   100   0.50   0.05           0.058   0          0\n",
      "11   100   0.50   0.10           0.087   0          0\n",
      "12  1000   0.05   0.05           0.061   0          0\n",
      "13  1000   0.05   0.10           0.103   0          0\n",
      "14  1000   0.50   0.05           0.064   0          0\n",
      "15  1000   0.50   0.10           0.114   0          0\n"
     ]
    }
   ],
   "source": [
    "import pandas as pd\n",
    "NValues = (5,10,100,1000)\n",
    "thetaValues = (0.05, 0.5)\n",
    "alphaValues = (0.05, 0.10)\n",
    "\n",
    "# Create an array to hold results\n",
    "results = pd.DataFrame({\"N\": range(0), \"theta\": range(0), \"alpha\": range(0), \"Normal Approx.\": range(0), \"CP\": range(0), \"Hoeffding\": range(0)})\n",
    "results = results[['N','theta','alpha','Normal Approx.', 'CP', 'Hoeffding']]\n",
    "def problem6ConfidenceInterval(samples,N,alpha):\n",
    "    lowerbounds = samples - np.sqrt((samples * (1 - samples)) / N) * norm.ppf(1 - alpha/2)\n",
    "    upperbounds = samples + np.sqrt((samples * (1 - samples)) / N) * norm.ppf(1 - alpha/2)\n",
    "    return lowerbounds, upperbounds\n",
    "\n",
    "for N in NValues:\n",
    "    for theta in thetaValues:\n",
    "        # Draw 1000 samples\n",
    "        sample = np.random.binomial(N,theta,size=1000) / float(N)\n",
    "        for alpha in alphaValues:\n",
    "            lowerbounds, upperbounds = problem6ConfidenceInterval(sample,N,alpha)\n",
    "            test = (sum(theta < lowerbounds) + sum(theta > upperbounds)) / float(1000)\n",
    "            results = results.append({\"N\": N, \"theta\": theta, \"alpha\": alpha, \"Normal Approx.\": test, \"CP\": 0, \"Hoeffding\": 0}, ignore_index=True)\n",
    "            # Compute confidence interval from (6)\n",
    "print(\"Fraction of samples where theta lies outside the confidence interval\")\n",
    "print(results)"
   ]
  },
  {
   "cell_type": "code",
   "execution_count": null,
   "metadata": {
    "collapsed": true
   },
   "outputs": [],
   "source": []
  }
 ],
 "metadata": {
  "kernelspec": {
   "display_name": "Python 2",
   "language": "python",
   "name": "python2"
  },
  "language_info": {
   "codemirror_mode": {
    "name": "ipython",
    "version": 2
   },
   "file_extension": ".py",
   "mimetype": "text/x-python",
   "name": "python",
   "nbconvert_exporter": "python",
   "pygments_lexer": "ipython2",
   "version": "2.7.10"
  }
 },
 "nbformat": 4,
 "nbformat_minor": 0
}
