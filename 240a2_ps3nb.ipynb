{
 "cells": [
  {
   "cell_type": "markdown",
   "metadata": {},
   "source": [
    "# Problem Set 3, Linear Regression, Preston Mui"
   ]
  },
  {
   "cell_type": "code",
   "execution_count": 188,
   "metadata": {
    "collapsed": false
   },
   "outputs": [],
   "source": [
    "# Direct Python to plot all figures inline (i.e., not in a separate window)\n",
    "%matplotlib inline\n",
    "\n",
    "# Load libraries\n",
    "import numpy as np\n",
    "import pandas as pd\n",
    "import matplotlib.pyplot as plt\n",
    "from __future__ import division\n",
    "import statsmodels.api as sm\n",
    "\n",
    "# Read in Data\n",
    "nlsy79 = pd.read_csv('NLSY79_TeachingExtract.csv')\n",
    "nlsy79.set_index(['HHID_79','PID_79'], drop=False)\n",
    "nlsy79.rename(columns = {'AFQT_Adj':'AFQT'}, inplace=True) # Renaming AFQT\n",
    "\n",
    "# Calculate log earnings\n",
    "nlsy79['LogEarn'] = np.log((nlsy79['real_earnings_1997'] + nlsy79['real_earnings_1999'] \n",
    "+ nlsy79['real_earnings_2001'] + nlsy79['real_earnings_2003'])/4)\n",
    "\n",
    "# Convert Pandas Dataframe Columns into Numpy Arrays\n",
    "# Drop all observations with missing values in Log Earnings, AFQT, and HGC_Age28\n",
    "nlsy79 = nlsy79[np.isfinite(nlsy79['AFQT']) & np.isfinite(nlsy79['LogEarn']) & np.isfinite(nlsy79['HGC_Age28'])]\n",
    "LogEarn = nlsy79.LogEarn.values\n",
    "AFQT = nlsy79.AFQT.values\n",
    "HGC_Age28 = nlsy79.HGC_Age28.values"
   ]
  },
  {
   "cell_type": "code",
   "execution_count": 189,
   "metadata": {
    "collapsed": false
   },
   "outputs": [
    {
     "name": "stdout",
     "output_type": "stream",
     "text": [
      "Here are the results using my code\n",
      "Coefficient estimates:\n",
      "[ 8.22686794  0.15754778]\n",
      "Variance-Covariance Matrix:\n",
      "[[  6.77857782e-03  -5.01171926e-04]\n",
      " [ -5.01171926e-04   3.81334304e-05]]\n",
      "Here are the results using StatsModels\n",
      "Coefficient estimates:\n",
      "[ 8.22686794  0.15754778]\n",
      "Variance-Covariance Matrix:\n",
      "[[  6.77857782e-03  -5.01171926e-04]\n",
      " [ -5.01171926e-04   3.81334304e-05]]\n",
      "The results are the same!\n"
     ]
    }
   ],
   "source": [
    "def leastsquares(Y,X):\n",
    "    beta_hat = np.linalg.inv(X.T.dot(X)).dot(X.T.dot(Y))\n",
    "    sigma2 = np.sum((Y - beta_hat.dot(X.T)) ** 2)/(len(Y)-len(beta_hat))\n",
    "    vcov_hat = sigma2 * np.linalg.inv(X.T.dot(X))\n",
    "    return beta_hat, sigma2, vcov_hat\n",
    "\n",
    "X = np.column_stack((np.ones_like(HGC_Age28),HGC_Age28))\n",
    "(betaX_hat, sigma2X, vcovX_hat) = leastsquares(LogEarn,X)\n",
    "smolsX = sm.OLS(LogEarn,X)\n",
    "\n",
    "print(\"Here are the results using my code\")\n",
    "print(\"Coefficient estimates:\")\n",
    "print(betaX_hat)\n",
    "print(\"Variance-Covariance Matrix:\")\n",
    "print(vcovX_hat)\n",
    "\n",
    "print(\"Here are the results using StatsModels\")\n",
    "print(\"Coefficient estimates:\")\n",
    "print(smolsX.fit().params)\n",
    "print(\"Variance-Covariance Matrix:\")\n",
    "print(smolsX.fit().cov_params())\n",
    "\n",
    "print(\"The results are the same!\")"
   ]
  },
  {
   "cell_type": "code",
   "execution_count": 190,
   "metadata": {
    "collapsed": false
   },
   "outputs": [
    {
     "name": "stdout",
     "output_type": "stream",
     "text": [
      "[  8.61904004e+00   1.02528546e-01   7.25887652e-03]\n",
      "[[  7.61333524e-03  -6.30662298e-04   1.89038038e-05]\n",
      " [ -6.30662298e-04   5.71856489e-05  -2.65208252e-06]\n",
      " [  1.89038038e-05  -2.65208252e-06   3.49898371e-07]]\n"
     ]
    }
   ],
   "source": [
    "XW = np.column_stack((np.ones_like(HGC_Age28),HGC_Age28,AFQT))\n",
    "(betaXW_hat, sigma2XW, vcovXW_hat) = leastsquares(LogEarn,XW)\n",
    "print(betaXW_hat)\n",
    "print(vcovXW_hat)"
   ]
  },
  {
   "cell_type": "code",
   "execution_count": 194,
   "metadata": {
    "collapsed": false
   },
   "outputs": [
    {
     "data": {
      "text/plain": [
       "array([-54.02655556,   7.5795795 ])"
      ]
     },
     "execution_count": 194,
     "metadata": {},
     "output_type": "execute_result"
    }
   ],
   "source": [
    "(betaX_hat - betaXW_hat[0:2]) / betaXW_hat[2]"
   ]
  },
  {
   "cell_type": "code",
   "execution_count": 195,
   "metadata": {
    "collapsed": false
   },
   "outputs": [],
   "source": [
    "(gamma) = leastsquares(AFQT,X1)[0]"
   ]
  },
  {
   "cell_type": "code",
   "execution_count": 196,
   "metadata": {
    "collapsed": false
   },
   "outputs": [
    {
     "data": {
      "text/plain": [
       "(array([ 0.00725888]), 107.16889754100646, array([[  3.80017977e-05]]))"
      ]
     },
     "execution_count": 196,
     "metadata": {},
     "output_type": "execute_result"
    }
   ],
   "source": [
    "# leastsquares(LogEarn,LogEarn - beta_hat1.dot(X1.T))\n",
    "V = AFQT - gamma.dot(X1.T)\n",
    "leastsquares(LogEarn,V.reshape(len(V),1))"
   ]
  },
  {
   "cell_type": "code",
   "execution_count": 223,
   "metadata": {
    "collapsed": false
   },
   "outputs": [],
   "source": [
    "# Bayesian Bootstrap\n",
    "XZW = np.column_stack((np.ones_like(HGC_Age28),HGC_Age28,HGC_Age28*(AFQT - 50),AFQT))\n",
    "\n",
    "B = 10000\n",
    "M = np.empty((B,4))\n",
    "N = len(LogEarn)\n",
    "\n",
    "for b in range (0,B):\n",
    "    wgts = np.random.gamma(1.,1.,N) # Random draws of Gamma(1,1) variables\n",
    "    wgts = wgts/np.sum(wgts)              # Converting draws to Dirichlet \n",
    "    \n",
    "    result = sm.WLS(LogEarn,XZW,weights=wgts).fit()\n",
    "    M[b,:] = np.matrix(result.params) # Linear regression with Dirichlet wgts"
   ]
  },
  {
   "cell_type": "code",
   "execution_count": 228,
   "metadata": {
    "collapsed": false
   },
   "outputs": [
    {
     "data": {
      "text/plain": [
       "(array([    9.,    82.,   407.,  1097.,  2203.,  2804.,  2154.,   946.,\n",
       "          259.,    39.]),\n",
       " array([ -1.36955816e-03,  -1.20949359e-03,  -1.04942901e-03,\n",
       "         -8.89364436e-04,  -7.29299861e-04,  -5.69235286e-04,\n",
       "         -4.09170711e-04,  -2.49106136e-04,  -8.90415612e-05,\n",
       "          7.10230137e-05,   2.31087589e-04]),\n",
       " <a list of 10 Patch objects>)"
      ]
     },
     "execution_count": 228,
     "metadata": {},
     "output_type": "execute_result"
    },
    {
     "data": {
      "image/png": "[encoded data removed]",
      "text/plain": [
       "<matplotlib.figure.Figure at 0x7f21d8fbd090>"
      ]
     },
     "metadata": {},
     "output_type": "display_data"
    }
   ],
   "source": [
    "plt.hist(M[:,2])"
   ]
  },
  {
   "cell_type": "code",
   "execution_count": null,
   "metadata": {
    "collapsed": true
   },
   "outputs": [],
   "source": []
  }
 ],
 "metadata": {
  "kernelspec": {
   "display_name": "Python 2",
   "language": "python",
   "name": "python2"
  },
  "language_info": {
   "codemirror_mode": {
    "name": "ipython",
    "version": 2
   },
   "file_extension": ".py",
   "mimetype": "text/x-python",
   "name": "python",
   "nbconvert_exporter": "python",
   "pygments_lexer": "ipython2",
   "version": "2.7.10"
  }
 },
 "nbformat": 4,
 "nbformat_minor": 0
}
