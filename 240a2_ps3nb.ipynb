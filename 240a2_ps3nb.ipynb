{
 "cells": [
  {
   "cell_type": "markdown",
   "metadata": {},
   "source": [
    "# Problem Set 3, Linear Regression, Preston Mui"
   ]
  },
  {
   "cell_type": "code",
   "execution_count": 2,
   "metadata": {
    "collapsed": false
   },
   "outputs": [],
   "source": [
    "# Direct Python to plot all figures inline (i.e., not in a separate window)\n",
    "%matplotlib inline\n",
    "\n",
    "# Load libraries\n",
    "import numpy as np\n",
    "import pandas as pd\n",
    "import matplotlib.pyplot as plt\n",
    "from __future__ import division\n",
    "import statsmodels.api as sm\n",
    "np.random.seed(813558889)\n",
    "\n",
    "# Read in Data\n",
    "nlsy79 = pd.read_csv('NLSY79_TeachingExtract.csv')\n",
    "nlsy79.set_index(['HHID_79','PID_79'], drop=False)\n",
    "nlsy79.rename(columns = {'AFQT_Adj':'AFQT'}, inplace=True) # Renaming AFQT\n",
    "\n",
    "# Calculate log earnings\n",
    "nlsy79['LogEarn'] = np.log((nlsy79['real_earnings_1997'] + nlsy79['real_earnings_1999'] \n",
    "+ nlsy79['real_earnings_2001'] + nlsy79['real_earnings_2003'])/4)\n",
    "\n",
    "# Convert Pandas Dataframe Columns into Numpy Arrays\n",
    "# Drop all observations with missing values in Log Earnings, AFQT, and HGC_Age28\n",
    "nlsy79 = nlsy79[np.isfinite(nlsy79['AFQT']) & np.isfinite(nlsy79['LogEarn']) & np.isfinite(nlsy79['HGC_Age28'])]\n",
    "LogEarn = nlsy79.LogEarn.values\n",
    "AFQT = nlsy79.AFQT.values\n",
    "HGC_Age28 = nlsy79.HGC_Age28.values"
   ]
  },
  {
   "cell_type": "markdown",
   "metadata": {},
   "source": [
    "## Compute the Least Squares Fit"
   ]
  },
  {
   "cell_type": "code",
   "execution_count": 3,
   "metadata": {
    "collapsed": false
   },
   "outputs": [
    {
     "name": "stdout",
     "output_type": "stream",
     "text": [
      "Here are the results using my code\n",
      "\n",
      "Coefficient estimates:\n",
      "[ 8.22686794  0.15754778]\n",
      "Variance-Covariance Matrix:\n",
      "[[  6.77857782e-03  -5.01171926e-04]\n",
      " [ -5.01171926e-04   3.81334304e-05]]\n",
      "\n",
      " Here are the results using StatsModels\n",
      "\n",
      "Coefficient estimates:\n",
      "[ 8.22686794  0.15754778]\n",
      "Variance-Covariance Matrix:\n",
      "[[  6.77857782e-03  -5.01171926e-04]\n",
      " [ -5.01171926e-04   3.81334304e-05]]\n",
      "\n",
      "The results with my code and the StatsModels OLS code are the same.\n"
     ]
    }
   ],
   "source": [
    "# Define function to calculate least squares, and return variance-covariance matrix\n",
    "def leastsquares(Y,X):\n",
    "    beta_hat = np.linalg.inv(X.T.dot(X)).dot(X.T.dot(Y))\n",
    "    sigma2 = np.sum((Y - beta_hat.dot(X.T)) ** 2)/(len(Y)-len(beta_hat))\n",
    "    vcov_hat = sigma2 * np.linalg.inv(X.T.dot(X))\n",
    "    return beta_hat, sigma2, vcov_hat\n",
    "\n",
    "# Create X = regressors for question 1, run OLS\n",
    "X = np.column_stack((np.ones_like(HGC_Age28),HGC_Age28))\n",
    "(betaX_hat, sigma2X, vcovX_hat) = leastsquares(LogEarn,X)\n",
    "smolsX = sm.OLS(LogEarn,X)\n",
    "\n",
    "print(\"Here are the results using my code\\n\")\n",
    "print(\"Coefficient estimates:\")\n",
    "print(betaX_hat)\n",
    "print(\"Variance-Covariance Matrix:\")\n",
    "print(vcovX_hat)\n",
    "\n",
    "print(\"\\n Here are the results using StatsModels\\n\")\n",
    "print(\"Coefficient estimates:\")\n",
    "print(smolsX.fit().params)\n",
    "print(\"Variance-Covariance Matrix:\")\n",
    "print(smolsX.fit().cov_params())\n",
    "\n",
    "print(\"\\nThe results with my code and the StatsModels OLS code are the same.\")"
   ]
  },
  {
   "cell_type": "markdown",
   "metadata": {},
   "source": [
    "## Long/short and Auxilliary Regression"
   ]
  },
  {
   "cell_type": "code",
   "execution_count": 4,
   "metadata": {
    "collapsed": false
   },
   "outputs": [
    {
     "name": "stdout",
     "output_type": "stream",
     "text": [
      "Coefficients of Least Squares of Log earn on HGC_Age28 and AFQT:\n",
      "\n",
      "Constant: 8.6190400385\n",
      "HGC_Age28: 0.102528546343\n",
      "AFQT: 0.00725887652071\n",
      "\n",
      " Variance-Covariance Matrix:\n",
      "[[  7.61333524e-03  -6.30662298e-04   1.89038038e-05]\n",
      " [ -6.30662298e-04   5.71856489e-05  -2.65208252e-06]\n",
      " [  1.89038038e-05  -2.65208252e-06   3.49898371e-07]]\n"
     ]
    }
   ],
   "source": [
    "# Run Least Squares on HGC_Age28 and AFQT:\n",
    "XW = np.column_stack((np.ones_like(HGC_Age28),HGC_Age28,AFQT))\n",
    "(betaXW_hat, sigma2XW, vcovXW_hat) = leastsquares(LogEarn,XW)\n",
    "\n",
    "print \"Coefficients of Least Squares of Log earn on HGC_Age28 and AFQT:\\n\"\n",
    "print \"Constant:\", betaXW_hat[0]\n",
    "print \"HGC_Age28:\", betaXW_hat[1]\n",
    "print \"AFQT:\", betaXW_hat[2]\n",
    "\n",
    "print \"\\n Variance-Covariance Matrix:\"\n",
    "print(vcovXW_hat)"
   ]
  },
  {
   "cell_type": "markdown",
   "metadata": {},
   "source": [
    "Auxillary Regression:"
   ]
  },
  {
   "cell_type": "code",
   "execution_count": 5,
   "metadata": {
    "collapsed": false
   },
   "outputs": [
    {
     "name": "stdout",
     "output_type": "stream",
     "text": [
      "Auxillary Regression Results of AFQT on Constant and HGC_Age28:\n",
      "Constant:  -54.0265555575\n",
      "HGC_Age28:  7.5795794961\n"
     ]
    }
   ],
   "source": [
    "(betaX_hat - betaXW_hat[0:2]) / betaXW_hat[2]\n",
    "print \"Auxillary Regression Results of AFQT on Constant and HGC_Age28:\"\n",
    "print \"Constant: \", ((betaX_hat - betaXW_hat[0:2]) / betaXW_hat[2])[0]\n",
    "print \"HGC_Age28: \", ((betaX_hat - betaXW_hat[0:2]) / betaXW_hat[2])[1]"
   ]
  },
  {
   "cell_type": "code",
   "execution_count": 6,
   "metadata": {
    "collapsed": false
   },
   "outputs": [
    {
     "name": "stdout",
     "output_type": "stream",
     "text": [
      "Direct Least Squares Regression of AFQT of Constant and HGC_Age28\n",
      "Constant:  -54.0265555575\n",
      "HGC_Age28:  7.5795794961\n",
      "The estimates from direct OLS are identical to those of the Auxillary Regression\n"
     ]
    }
   ],
   "source": [
    "(gamma) = leastsquares(AFQT,X)[0]\n",
    "print \"Direct Least Squares Regression of AFQT of Constant and HGC_Age28\"\n",
    "print \"Constant: \", gamma[0]\n",
    "print \"HGC_Age28: \", gamma[1]\n",
    "print \"The estimates from direct OLS are identical to those of the Auxillary Regression\""
   ]
  },
  {
   "cell_type": "markdown",
   "metadata": {},
   "source": [
    "## Finding the coefficient on HGC_Age28 by regressing Log Earnings\n",
    "\n",
    "Define $V = AFQT - X \\cdot \\gamma' $, where $X$ is the ones vector concatenated with the HGC_Age28 vector, and $\\gamma$ are the coefficients from the least squares estimate of AFQT on $X$. Then, the coefficient on HGC_Age28 in the regression of Log Earnings on Constant, AFQT, and HGC_Age28 is given by a regression of Log Earnings on $V$."
   ]
  },
  {
   "cell_type": "code",
   "execution_count": 7,
   "metadata": {
    "collapsed": false
   },
   "outputs": [
    {
     "name": "stdout",
     "output_type": "stream",
     "text": [
      "Least Squares Regression of Log Earnings on V:\n",
      "Coefficient on V:  [ 0.00725888]\n",
      "This is the same coefficient as that on HGC_Age28 in the Log Earnings Regression\n"
     ]
    }
   ],
   "source": [
    "V = AFQT - gamma.dot(X.T)\n",
    "print \"Least Squares Regression of Log Earnings on V:\"\n",
    "print \"Coefficient on V: \", leastsquares(LogEarn,V.reshape(len(V),1))[0]\n",
    "print \"This is the same coefficient as that on HGC_Age28 in the Log Earnings Regression\""
   ]
  },
  {
   "cell_type": "markdown",
   "metadata": {},
   "source": [
    "## Bayesian Bootstrapping"
   ]
  },
  {
   "cell_type": "code",
   "execution_count": 8,
   "metadata": {
    "collapsed": false
   },
   "outputs": [
    {
     "name": "stdout",
     "output_type": "stream",
     "text": [
      "Estimated Coefficients: \n",
      "α =  8.28703705254\n",
      "β =  0.103966280412\n",
      "γ =  -0.000503347821289\n",
      "δ =  0.0139079537096\n"
     ]
    }
   ],
   "source": [
    "# Estimate OLS on a constant, HGC_Age28, HGCAge28 x (AFQT - 50), AFQT\n",
    "\n",
    "# Create XZW, the matrix of regressors\n",
    "XZW = np.column_stack((np.ones_like(HGC_Age28),HGC_Age28,HGC_Age28*(AFQT - 50),AFQT))\n",
    "\n",
    "# Run OLS\n",
    "coefficients = leastsquares(LogEarn,XZW)[0]\n",
    "alpha0 = coefficients[0]\n",
    "beta0 = coefficients[1]\n",
    "gamma0 = coefficients[2]\n",
    "delta0 = coefficients[3]\n",
    "\n",
    "print \"Estimated Coefficients: \"\n",
    "print u\"\\u03B1\", \"= \", alpha0\n",
    "print u\"\\u03B2\", \"= \", beta0\n",
    "print u\"\\u03B3\", \"= \", gamma0\n",
    "print u\"\\u03B4\", \"= \", delta0"
   ]
  },
  {
   "cell_type": "markdown",
   "metadata": {},
   "source": [
    "(a) **Provide a semi-elasticity interpretation of $\\beta_0$:** $\\beta_0$ is the overall average elasticity of earnings with respect to grade completion, across the population.\n",
    "\n",
    "(b) **Provide a semi-elasticity interpretation of $\\beta_0 + \\gamma_0(AFQT - 50)$:** is the elasticity of earnings with respect to grade completion, given some level of AFQT.\n",
    "\n",
    "(c) **Interpret the Null Hypothesis $H_0: \\gamma_0 = 0$:** Under the null hypothesis, the elasticity of earnings with respect to grade completition does not change with AFQT scores."
   ]
  },
  {
   "cell_type": "code",
   "execution_count": 9,
   "metadata": {
    "collapsed": false
   },
   "outputs": [],
   "source": [
    "# Set up Bayesian Bootstrapping (10000 pulls)\n",
    "B = 10000\n",
    "M = np.empty((B,4))\n",
    "N = len(LogEarn)\n",
    "\n",
    "# Do Bayesian Bootstrapping\n",
    "for b in range (0,B):\n",
    "    wgts = np.random.gamma(1.,1.,N) # Random draws of Gamma(1,1) variables\n",
    "    wgts = wgts/np.sum(wgts)              # Converting draws to Dirichlet \n",
    "    \n",
    "    result = sm.WLS(LogEarn,XZW,weights=wgts).fit()\n",
    "    M[b,:] = np.matrix(result.params) # Linear regression with Dirichlet wgts"
   ]
  },
  {
   "cell_type": "code",
   "execution_count": 23,
   "metadata": {
    "collapsed": false
   },
   "outputs": [
    {
     "data": {
      "text/plain": [
       "<matplotlib.text.Text at 0x7f73817a14d0>"
      ]
     },
     "execution_count": 23,
     "metadata": {},
     "output_type": "execute_result"
    },
    {
     "data": {
      "image/png": "[encoded data removed]",
      "text/plain": [
       "<matplotlib.figure.Figure at 0x7f7381757c50>"
      ]
     },
     "metadata": {},
     "output_type": "display_data"
    }
   ],
   "source": [
    "# Calculate confidence intervals for beta + gamma(AFQT - 50)\n",
    "# For each AFQT score 1 - 100, and each pull of beta, gamma, calculate beta + gamma(AFQT - 50)\n",
    "\n",
    "beta_gammaAFQT50_estimates = np.zeros((100,B))\n",
    "for a in range(100):\n",
    "    for b in range(B):\n",
    "        beta_gammaAFQT50_estimates[a,b] = M[b,1] + M[b,2] * (a+1-50)\n",
    "        \n",
    "# For each AFQT score, pull the 0.025 and 0.975 quantiles\n",
    "lowerbound = np.percentile(beta_gammaAFQT50_estimates,2.5,axis=1)\n",
    "upperbound = np.percentile(beta_gammaAFQT50_estimates,97.5,axis=1)\n",
    "estimate = np.zeros(100)\n",
    "for a in range(100):\n",
    "    estimate[a] = beta0 + gamma0*(a + 1 - 50)\n",
    "\n",
    "# Plot point line and interval\n",
    "afqtvalues = np.linspace(1,100,100)\n",
    "fig, ax = plt.subplots(1)\n",
    "ax.plot(afqtvalues, upperbound, label='Upper Bound', color='blue')\n",
    "ax.plot(afqtvalues, estimate, label='Point Estimate', color='red')\n",
    "ax.plot(afqtvalues, lowerbound, label='Lower Bound', color='blue')\n",
    "ax.fill_between(afqtvalues, lowerbound, upperbound, facecolor='grey', alpha=0.5)\n",
    "ax.legend()\n",
    "ax.set_xlabel('AFQT')\n",
    "ax.set_ylabel('Elasticity of Earnings to Schooling')"
   ]
  }
 ],
 "metadata": {
  "kernelspec": {
   "display_name": "Python 2",
   "language": "python",
   "name": "python2"
  },
  "language_info": {
   "codemirror_mode": {
    "name": "ipython",
    "version": 2
   },
   "file_extension": ".py",
   "mimetype": "text/x-python",
   "name": "python",
   "nbconvert_exporter": "python",
   "pygments_lexer": "ipython2",
   "version": "2.7.10"
  }
 },
 "nbformat": 4,
 "nbformat_minor": 0
}
